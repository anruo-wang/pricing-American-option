{
 "cells": [
  {
   "cell_type": "code",
   "execution_count": 1,
   "metadata": {},
   "outputs": [],
   "source": [
    "import numpy as np"
   ]
  },
  {
   "cell_type": "code",
   "execution_count": 2,
   "metadata": {},
   "outputs": [],
   "source": [
    "S0 = 100\n",
    "K = 100\n",
    "T = 1\n",
    "r = 0.1\n",
    "sig = 0.2\n",
    "payoff = \"call\""
   ]
  },
  {
   "cell_type": "code",
   "execution_count": 3,
   "metadata": {},
   "outputs": [],
   "source": [
    "def getAmeOption(S0, K, T, r, sig, N, payoff):\n",
    "    \"\"\"\n",
    "    This program is used to pricing american option using binomial tree method.\n",
    "    \"\"\"\n",
    "    dT = float(T) / N\n",
    "    u = np.exp(sig * np.sqrt(dT))\n",
    "    d = 1.0 / u   \n",
    "    a = np.exp(r * dT)\n",
    "    p = (a - d)/(u - d)\n",
    "    q = 1.0 - p    \n",
    "    V = np.zeros(N+1)                            \n",
    "    S_T = np.array( [(S0 * u**j * d**(N - j)) for j in range(N + 1)] )  # price S_T at time T\n",
    "    \n",
    "    if payoff ==\"call\":\n",
    "        V[:] = np.maximum(S_T-K, 0.0)\n",
    "    elif payoff ==\"put\":\n",
    "        V[:] = np.maximum(K-S_T, 0.0)\n",
    "\n",
    "    for i in range(N-1, -1, -1):\n",
    "        V[:-1] = np.exp(-r*dT) * (p * V[1:] + q * V[:-1])    \n",
    "        S_T = S_T * u       \n",
    "        if payoff==\"call\":\n",
    "            V = np.maximum( V, S_T-K )\n",
    "        elif payoff==\"put\":\n",
    "            V = np.maximum( V, K-S_T )\n",
    "    return V[0]"
   ]
  },
  {
   "cell_type": "code",
   "execution_count": 6,
   "metadata": {},
   "outputs": [
    {
     "data": {
      "text/plain": [
       "13.265501210490816"
      ]
     },
     "execution_count": 6,
     "metadata": {},
     "output_type": "execute_result"
    }
   ],
   "source": [
    "getAmeOption(S0, K, T, r, sig, 500, payoff)"
   ]
  },
  {
   "cell_type": "code",
   "execution_count": null,
   "metadata": {},
   "outputs": [],
   "source": []
  }
 ],
 "metadata": {
  "kernelspec": {
   "display_name": "Python 3",
   "language": "python",
   "name": "python3"
  },
  "language_info": {
   "codemirror_mode": {
    "name": "ipython",
    "version": 3
   },
   "file_extension": ".py",
   "mimetype": "text/x-python",
   "name": "python",
   "nbconvert_exporter": "python",
   "pygments_lexer": "ipython3",
   "version": "3.8.5"
  }
 },
 "nbformat": 4,
 "nbformat_minor": 4
}
