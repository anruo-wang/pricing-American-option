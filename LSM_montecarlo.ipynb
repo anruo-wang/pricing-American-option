{
 "cells": [
  {
   "cell_type": "code",
   "execution_count": 1,
   "metadata": {},
   "outputs": [],
   "source": [
    "import scipy.stats as ss\n",
    "import numpy as np\n",
    "import random\n",
    "from math import exp, sqrt\n",
    "np.set_printoptions(precision=4)\n",
    "import time"
   ]
  },
  {
   "cell_type": "code",
   "execution_count": 2,
   "metadata": {},
   "outputs": [
    {
     "data": {
      "text/plain": [
       "array([[100.    ,  95.227 ,  97.1684,  93.9107,  87.7259,  89.1876],\n",
       "       [100.    , 103.9663, 108.17  , 118.4833, 141.1923, 160.7761],\n",
       "       [100.    ,  91.8015,  92.7929, 111.0398, 104.4469, 111.9558],\n",
       "       [100.    ,  89.3186,  89.5722,  84.0282,  95.0404,  95.5193],\n",
       "       [100.    , 119.5032, 158.9755, 150.6048, 132.2399, 118.4127],\n",
       "       [100.    ,  97.36  ,  99.8569, 105.7206,  93.3808, 102.2375],\n",
       "       [100.    , 103.0864, 107.5693,  97.0691, 100.591 ,  96.8766],\n",
       "       [100.    , 111.0808, 115.1753, 123.919 , 121.9681, 137.5874],\n",
       "       [100.    ,  97.705 , 113.5782, 115.864 , 114.3571, 136.96  ],\n",
       "       [100.    ,  97.1221, 102.5056, 119.5147, 108.7946, 116.3197]])"
      ]
     },
     "execution_count": 2,
     "metadata": {},
     "output_type": "execute_result"
    }
   ],
   "source": [
    "def calculate_S_T(S, sigma, r, T):\n",
    "    \"\"\"\n",
    "    estimate epsilon，compute S_T\n",
    "    using generalized wiener process\n",
    "    \"\"\"\n",
    "    \n",
    "    return S * exp((r - 0.5 * sigma ** 2) * T + sigma * sqrt(T) * random.gauss(0.0, 1.0))\n",
    "\n",
    "def getRoundStockPrice(S, sigma, r, N, T, rounds, paths):\n",
    "    \"\"\"\n",
    "    This function is used to simulate N random path for a stock\n",
    "    S: Stock price\n",
    "    sigma: volatility rate\n",
    "    r: interest rate\n",
    "    N: N steps\n",
    "    T: time interval\n",
    "    paths: how many paths for stock price\n",
    "    \"\"\"\n",
    "    firstRound = [S] * paths    #creating the first row \n",
    "    nextRound = firstRound.copy() #copying the first row\n",
    "    for i in range(rounds):\n",
    "        nextRound1 = nextRound[-paths:]        \n",
    "        for s in nextRound1:\n",
    "            nextS = calculate_S_T(s, sigma, r, T)\n",
    "            nextRound.append(nextS)\n",
    "    nextRound = np.array(nextRound).reshape((-1, paths)).T\n",
    "    return nextRound\n",
    "\n",
    "S = 100\n",
    "sigma = 0.2\n",
    "r = 0.1\n",
    "N = 5\n",
    "T = 1/N\n",
    "\n",
    "paths = 10\n",
    "S_Matrix = getRoundStockPrice(S, sigma, r, N, T, N, paths)\n",
    "S_Matrix"
   ]
  },
  {
   "cell_type": "code",
   "execution_count": 3,
   "metadata": {},
   "outputs": [
    {
     "data": {
      "text/plain": [
       "88.94340503083669"
      ]
     },
     "execution_count": 3,
     "metadata": {},
     "output_type": "execute_result"
    }
   ],
   "source": [
    "calculate_S_T(S, sigma, r, T)"
   ]
  },
  {
   "cell_type": "code",
   "execution_count": 2,
   "metadata": {},
   "outputs": [],
   "source": [
    "def LSM(S0, K, T, r, sigma, option_type, N=100, paths=100):\n",
    "    \"\"\"\n",
    "    This program is used to price american option using lsm monte carlo method\n",
    "    S0:Stock price\n",
    "    K:strike price\n",
    "    r:interest rate\n",
    "    sigma: volatility rate\n",
    "    option_type:\"call\" or \"put\" American option\n",
    "    N:number of steps\n",
    "    paths: number of paths\n",
    "    \"\"\"\n",
    "    start_time = time.time()\n",
    "    dt = T/(N-1)        # time interval\n",
    "    df = np.exp(-r * dt)  # discount factor per time time interval\n",
    "\n",
    "    X0 = np.zeros((paths,1)) #creating an array with paths rows and one column\n",
    "    #creating random path using \"scipy.stats\" package which return a normal continuous random variable\n",
    "    #The location (loc) keyword specifies the mean. The scale (scale) keyword specifies the standard deviation.\n",
    "    increments = ss.norm.rvs(loc=(r - sigma**2/2)*dt, scale=np.sqrt(dt)*sigma, size=(paths,N-1))\n",
    "    X = np.concatenate((X0,increments), axis=1).cumsum(1)#Join a sequence of arrays along an existing axis.\n",
    "    S = S0 * np.exp(X) #stock price in each step\n",
    "    if option_type == \"put\":\n",
    "        H = np.maximum(K - S, 0)   # intrinsic values for put option,H=ev\n",
    "    if option_type == \"call\":\n",
    "        H = np.maximum(S - K, 0)   # intrinsic values for call option\n",
    "    V = np.zeros_like(H)           # value matrix\n",
    "    V[:,-1] = H[:,-1]              # let the last column of V be same as H\n",
    "\n",
    "    # Valuation by LS Method\n",
    "    for t in range(N-2, 0, -1):\n",
    "        #when >0 return True, otherwise,False\n",
    "        good_paths = H[:,t] > 0    \n",
    "        # polynomial regression：selecting parts with EV > 0 \n",
    "        rg = np.polyfit( S[good_paths, t], V[good_paths, t+1] * df, 2)    \n",
    "        # estimate E(HV)\n",
    "        C = np.polyval( rg, S[good_paths,t] )                             \n",
    "        # if E(HV)<EV，exercise\n",
    "        exercise = np.zeros( len(good_paths), dtype=bool)\n",
    "        exercise[good_paths] = H[good_paths,t] > C\n",
    "        V[exercise,t] = H[exercise,t]\n",
    "        V[exercise,t+1:] = 0\n",
    "        discount_path = (V[:,t] == 0)\n",
    "        V[discount_path,t] = V[discount_path,t+1] * df\n",
    "    V0 = np.mean(V[:,1]) * df  #return the final result \n",
    "    end_time = time.time()\n",
    "    print('running time is '+ str(end_time - start_time)+'s')\n",
    "    print(V0)"
   ]
  },
  {
   "cell_type": "code",
   "execution_count": 3,
   "metadata": {
    "scrolled": true
   },
   "outputs": [
    {
     "name": "stdout",
     "output_type": "stream",
     "text": [
      "running time is 1.1863017082214355s\n",
      "4.754518839028211\n"
     ]
    }
   ],
   "source": [
    "put = LSM(100, 100, 1, 0.1, 0.2, 'put', N=2000, paths=2000)"
   ]
  },
  {
   "cell_type": "code",
   "execution_count": null,
   "metadata": {},
   "outputs": [],
   "source": []
  },
  {
   "cell_type": "code",
   "execution_count": 139,
   "metadata": {},
   "outputs": [],
   "source": []
  },
  {
   "cell_type": "code",
   "execution_count": null,
   "metadata": {},
   "outputs": [],
   "source": []
  },
  {
   "cell_type": "code",
   "execution_count": null,
   "metadata": {},
   "outputs": [],
   "source": []
  },
  {
   "cell_type": "code",
   "execution_count": null,
   "metadata": {},
   "outputs": [],
   "source": []
  },
  {
   "cell_type": "code",
   "execution_count": null,
   "metadata": {},
   "outputs": [],
   "source": []
  },
  {
   "cell_type": "code",
   "execution_count": null,
   "metadata": {},
   "outputs": [],
   "source": []
  },
  {
   "cell_type": "code",
   "execution_count": null,
   "metadata": {},
   "outputs": [],
   "source": []
  },
  {
   "cell_type": "code",
   "execution_count": null,
   "metadata": {},
   "outputs": [],
   "source": []
  }
 ],
 "metadata": {
  "kernelspec": {
   "display_name": "Python 3",
   "language": "python",
   "name": "python3"
  },
  "language_info": {
   "codemirror_mode": {
    "name": "ipython",
    "version": 3
   },
   "file_extension": ".py",
   "mimetype": "text/x-python",
   "name": "python",
   "nbconvert_exporter": "python",
   "pygments_lexer": "ipython3",
   "version": "3.8.5"
  }
 },
 "nbformat": 4,
 "nbformat_minor": 4
}
